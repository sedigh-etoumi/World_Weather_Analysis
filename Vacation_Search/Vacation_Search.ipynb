{
 "cells": [
  {
   "cell_type": "markdown",
   "metadata": {},
   "source": [
    "## Deliverable 2. Create a Customer Travel Destinations Map."
   ]
  },
  {
   "cell_type": "code",
   "execution_count": 8,
   "metadata": {},
   "outputs": [],
   "source": [
    "# Dependencies and Setup\n",
    "import pandas as pd\n",
    "import requests\n",
    "import gmaps\n",
    "\n",
    "# Import API key\n",
    "#from config import g_key\n",
    "\n",
    "# Configure gmaps API key\n",
    "#gmaps.configure(api_key=g_key)"
   ]
  },
  {
   "cell_type": "code",
   "execution_count": 14,
   "metadata": {},
   "outputs": [
    {
     "data": {
      "text/html": [
       "<div>\n",
       "<style scoped>\n",
       "    .dataframe tbody tr th:only-of-type {\n",
       "        vertical-align: middle;\n",
       "    }\n",
       "\n",
       "    .dataframe tbody tr th {\n",
       "        vertical-align: top;\n",
       "    }\n",
       "\n",
       "    .dataframe thead th {\n",
       "        text-align: right;\n",
       "    }\n",
       "</style>\n",
       "<table border=\"1\" class=\"dataframe\">\n",
       "  <thead>\n",
       "    <tr style=\"text-align: right;\">\n",
       "      <th></th>\n",
       "      <th>City_ID</th>\n",
       "      <th>City</th>\n",
       "      <th>Lat</th>\n",
       "      <th>Lng</th>\n",
       "      <th>Max Temp</th>\n",
       "      <th>Humidity</th>\n",
       "      <th>Cloudiness</th>\n",
       "      <th>Wind Speed</th>\n",
       "      <th>Country</th>\n",
       "      <th>Date</th>\n",
       "    </tr>\n",
       "  </thead>\n",
       "  <tbody>\n",
       "    <tr>\n",
       "      <th>0</th>\n",
       "      <td>0</td>\n",
       "      <td>Saskylakh</td>\n",
       "      <td>71.9167</td>\n",
       "      <td>114.0833</td>\n",
       "      <td>32.72</td>\n",
       "      <td>78</td>\n",
       "      <td>88</td>\n",
       "      <td>16.73</td>\n",
       "      <td>RU</td>\n",
       "      <td>2022-09-20 05:46:51</td>\n",
       "    </tr>\n",
       "    <tr>\n",
       "      <th>1</th>\n",
       "      <td>1</td>\n",
       "      <td>Say</td>\n",
       "      <td>13.1007</td>\n",
       "      <td>2.3689</td>\n",
       "      <td>77.56</td>\n",
       "      <td>87</td>\n",
       "      <td>63</td>\n",
       "      <td>12.33</td>\n",
       "      <td>NE</td>\n",
       "      <td>2022-09-20 05:46:51</td>\n",
       "    </tr>\n",
       "    <tr>\n",
       "      <th>2</th>\n",
       "      <td>2</td>\n",
       "      <td>Fez</td>\n",
       "      <td>34.0372</td>\n",
       "      <td>-4.9998</td>\n",
       "      <td>70.05</td>\n",
       "      <td>77</td>\n",
       "      <td>40</td>\n",
       "      <td>4.61</td>\n",
       "      <td>MA</td>\n",
       "      <td>2022-09-20 05:46:51</td>\n",
       "    </tr>\n",
       "    <tr>\n",
       "      <th>3</th>\n",
       "      <td>3</td>\n",
       "      <td>Batagay</td>\n",
       "      <td>67.6333</td>\n",
       "      <td>134.6333</td>\n",
       "      <td>35.53</td>\n",
       "      <td>64</td>\n",
       "      <td>94</td>\n",
       "      <td>4.12</td>\n",
       "      <td>RU</td>\n",
       "      <td>2022-09-20 05:46:52</td>\n",
       "    </tr>\n",
       "    <tr>\n",
       "      <th>4</th>\n",
       "      <td>4</td>\n",
       "      <td>Tarakan</td>\n",
       "      <td>3.3000</td>\n",
       "      <td>117.6333</td>\n",
       "      <td>85.50</td>\n",
       "      <td>70</td>\n",
       "      <td>20</td>\n",
       "      <td>5.75</td>\n",
       "      <td>ID</td>\n",
       "      <td>2022-09-20 05:46:52</td>\n",
       "    </tr>\n",
       "  </tbody>\n",
       "</table>\n",
       "</div>"
      ],
      "text/plain": [
       "   City_ID       City      Lat       Lng  Max Temp  Humidity  Cloudiness  \\\n",
       "0        0  Saskylakh  71.9167  114.0833     32.72        78          88   \n",
       "1        1        Say  13.1007    2.3689     77.56        87          63   \n",
       "2        2        Fez  34.0372   -4.9998     70.05        77          40   \n",
       "3        3    Batagay  67.6333  134.6333     35.53        64          94   \n",
       "4        4    Tarakan   3.3000  117.6333     85.50        70          20   \n",
       "\n",
       "   Wind Speed Country                 Date  \n",
       "0       16.73      RU  2022-09-20 05:46:51  \n",
       "1       12.33      NE  2022-09-20 05:46:51  \n",
       "2        4.61      MA  2022-09-20 05:46:51  \n",
       "3        4.12      RU  2022-09-20 05:46:52  \n",
       "4        5.75      ID  2022-09-20 05:46:52  "
      ]
     },
     "execution_count": 14,
     "metadata": {},
     "output_type": "execute_result"
    }
   ],
   "source": [
    "# 1. Import the WeatherPy_database.csv file. \n",
    "city_data_df = pd.read_csv(r'C:/UCD/World_Weather_Analysis/Weather_Database/WeatherPy_database.csv')\n",
    "city_data_df.head()"
   ]
  },
  {
   "cell_type": "code",
   "execution_count": 3,
   "metadata": {},
   "outputs": [],
   "source": [
    "# 2. Prompt the user to enter minimum and maximum temperature criteria \n"
   ]
  },
  {
   "cell_type": "code",
   "execution_count": 4,
   "metadata": {},
   "outputs": [],
   "source": [
    "# 3. Filter the city_data_df DataFrame using the input statements to create a new DataFrame using the loc method.\n"
   ]
  },
  {
   "cell_type": "code",
   "execution_count": 5,
   "metadata": {},
   "outputs": [],
   "source": [
    "# 4a. Determine if there are any empty rows.\n"
   ]
  },
  {
   "cell_type": "code",
   "execution_count": 6,
   "metadata": {},
   "outputs": [],
   "source": [
    "# 4b. Drop any empty rows and create a new DataFrame that doesn’t have empty rows.\n"
   ]
  },
  {
   "cell_type": "code",
   "execution_count": 7,
   "metadata": {},
   "outputs": [],
   "source": [
    "# 5a. Create DataFrame called hotel_df to store hotel names along with city, country, max temp, and coordinates.\n",
    "hotel_df = clean_df[[\"City\", \"Country\", \"Max Temp\", \"Current Description\", \"Lat\", \"Lng\"]].copy()\n",
    "\n",
    "# 5b. Create a new column \"Hotel Name\"\n",
    "hotel_df[\"Hotel Name\"] = \"\"\n",
    "hotel_df.head(10)"
   ]
  },
  {
   "cell_type": "code",
   "execution_count": 8,
   "metadata": {},
   "outputs": [],
   "source": [
    "# 6a. Set parameters to search for hotels with 5000 meters.\n",
    "params = {\n",
    "    \"radius\": 5000,\n",
    "    \"type\": \"lodging\",\n",
    "    \"key\": g_key\n",
    "}\n",
    "\n",
    "# 6b. Iterate through the hotel DataFrame.\n",
    "\n",
    "    # 6c. Get latitude and longitude from DataFrame\n",
    "\n",
    "    \n",
    "    # 6d. Set up the base URL for the Google Directions API to get JSON data.\n",
    "    \n",
    "\n",
    "    # 6e. Make request and retrieve the JSON data from the search. \n",
    "   \n",
    "    \n",
    "    # 6f. Get the first hotel from the results and store the name, if a hotel isn't found skip the city.\n",
    "    \n",
    "        "
   ]
  },
  {
   "cell_type": "code",
   "execution_count": 9,
   "metadata": {},
   "outputs": [],
   "source": [
    "# 7. Drop the rows where there is no Hotel Name.\n"
   ]
  },
  {
   "cell_type": "code",
   "execution_count": 10,
   "metadata": {},
   "outputs": [],
   "source": [
    "# 8a. Create the output File (CSV)\n",
    "\n",
    "# 8b. Export the City_Data into a csv\n",
    "clean_hotel_df.to_csv(output_data_file, index_label=\"City_ID\")"
   ]
  },
  {
   "cell_type": "code",
   "execution_count": 11,
   "metadata": {},
   "outputs": [],
   "source": [
    "# 9. Using the template add city name, the country code, the weather description and maximum temperature for the city.\n",
    "info_box_template = \"\"\"\n",
    "\n",
    "\"\"\"\n",
    "\n",
    "# 10a. Get the data from each row and add it to the formatting template and store the data in a list.\n",
    "hotel_info = [info_box_template.format(**row) for index, row in clean_hotel_df.iterrows()]\n",
    "\n",
    "# 10b. Get the latitude and longitude from each row and store in a new DataFrame.\n",
    "locations = clean_hotel_df[[\"Lat\", \"Lng\"]]"
   ]
  },
  {
   "cell_type": "code",
   "execution_count": 12,
   "metadata": {},
   "outputs": [],
   "source": [
    "# 11a. Add a marker layer for each city to the map. \n",
    "\n",
    "# 11b. Display the figure\n"
   ]
  },
  {
   "cell_type": "code",
   "execution_count": null,
   "metadata": {},
   "outputs": [],
   "source": []
  },
  {
   "cell_type": "code",
   "execution_count": null,
   "metadata": {},
   "outputs": [],
   "source": []
  }
 ],
 "metadata": {
  "kernelspec": {
   "display_name": "Python 3 (ipykernel)",
   "language": "python",
   "name": "python3"
  },
  "language_info": {
   "codemirror_mode": {
    "name": "ipython",
    "version": 3
   },
   "file_extension": ".py",
   "mimetype": "text/x-python",
   "name": "python",
   "nbconvert_exporter": "python",
   "pygments_lexer": "ipython3",
   "version": "3.9.12"
  },
  "latex_envs": {
   "LaTeX_envs_menu_present": true,
   "autoclose": false,
   "autocomplete": true,
   "bibliofile": "biblio.bib",
   "cite_by": "apalike",
   "current_citInitial": 1,
   "eqLabelWithNumbers": true,
   "eqNumInitial": 1,
   "hotkeys": {
    "equation": "Ctrl-E",
    "itemize": "Ctrl-I"
   },
   "labels_anchors": false,
   "latex_user_defs": false,
   "report_style_numbering": false,
   "user_envs_cfg": false
  }
 },
 "nbformat": 4,
 "nbformat_minor": 2
}
